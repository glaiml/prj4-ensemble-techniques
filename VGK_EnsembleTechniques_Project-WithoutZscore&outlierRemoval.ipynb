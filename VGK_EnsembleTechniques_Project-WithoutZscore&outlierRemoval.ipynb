{
 "cells": [
  {
   "cell_type": "markdown",
   "metadata": {},
   "source": [
    "## Ensemble Techniques Project - VGK\n",
    "\n",
    "### Data Description:\n",
    "The data is related with direct marketing campaigns of a Portuguese banking institution. The marketing campaigns were based on phone calls. Often, more than one contact to the same client was required, in order to access if the product (bank term deposit) would be ('yes') or not ('no') subscribed.\n",
    "\n",
    "### Domain:\n",
    "Banking\n",
    "\n",
    "### Context:\n",
    "Leveraging customer information is paramount for most businesses. In the case of a bank, attributes of customers like the ones mentioned below can be crucial in strategizing a marketing campaign when launching a new product.\n",
    "\n",
    "### Attribute Information:\n",
    "1. age (numeric)\n",
    "2. job : type of job (categorical: 'admin.','blue-collar','entrepreneur','housemaid','management','retired','self-employed','services','student','technician','unemployed','unknown')\n",
    "3. marital : marital status (categorical:'divorced','married','single','unknown'; note: 'divorced' means divorced or widowed)\n",
    "4. education (categorical:'basic.4y','basic.6y','basic.9y','high.school','illiterate','professional.course','university.degree','unknown')\n",
    "5. default: has credit in default? (categorical: 'no','yes','unknown')\n",
    "6. balance: average yearly balance, in euros (numeric)\n",
    "7. housing: has housing loan? (categorical: 'no','yes','unknown')\n",
    "8. loan: has personal loan? (categorical: 'no','yes','unknown')\n",
    "9. contact: contact communication type (categorical:'cellular','telephone')\n",
    "10. day: last contact day of the month (numeric 1 -31)\n",
    "11. month: last contact month of year (categorical: 'jan', 'feb','mar', ..., 'nov', 'dec')\n",
    "12. duration: last contact duration, in seconds (numeric).\n",
    "    - Important note: this attribute highly affects the output target (e.g., if duration=0 then y='no'). Yet, the duration is not known before a call is performed. Also, after the end of the call y is obviously known.Thus, this input should only be included for benchmark purposes and should be discarded if the intention is to have a realistic predictive model.\n",
    "13. campaign: number of contacts performed during this campaign and for this client (numeric, includes last contact)\n",
    "14. pdays: number of days that passed by after the client was last contacted from a previous campaign (numeric; 999 means client was not previously contacted)\n",
    "15. previous: number of contacts performed before this campaign and for this client (numeric)\n",
    "16. poutcome: outcome of the previous marketing campaign (categorical: 'failure','nonexistent','success')\n",
    "17. target: has the client subscribed a term deposit? (binary:\"yes\",\"no\")\n",
    "\n",
    "### Learning Outcomes:\n",
    "- Exploratory Data Analysis\n",
    "- Preparing the data to train a model\n",
    "- Training and making predictions using an Ensemble Model\n",
    "- Comparing model perfomances\n",
    "\n",
    "### Objective:\n",
    "The classification goal is to predict if the client will subscribe (yes/no) aterm deposit (variable y).\n",
    "\n",
    "#### Ref ::\n",
    "https://activewizards.com/blog/top-9-data-science-use-cases-in-banking/\n",
    "https://thefinancialbrand.com/71350/ai-machine-learning-analytics-marketing-banking-trends/"
   ]
  },
  {
   "cell_type": "markdown",
   "metadata": {},
   "source": [
    "### 1. Import the necessary libraries"
   ]
  },
  {
   "cell_type": "code",
   "execution_count": 1,
   "metadata": {},
   "outputs": [],
   "source": [
    "# Numerical libraries\n",
    "import numpy as np\n",
    "\n",
    "# to handle data in form of rows and columns \n",
    "import pandas as pd    \n",
    "\n",
    "# importing ploting libraries\n",
    "import matplotlib.pyplot as plt   \n",
    "\n",
    "#importing seaborn for statistical plots\n",
    "import seaborn as sns"
   ]
  },
  {
   "cell_type": "markdown",
   "metadata": {},
   "source": [
    "### 2. Read the data as a data frame"
   ]
  },
  {
   "cell_type": "code",
   "execution_count": 2,
   "metadata": {},
   "outputs": [],
   "source": [
    "# reading the CSV file into pandas dataframe\n",
    "bank_df = pd.read_csv(\"bank-full.csv\")"
   ]
  },
  {
   "cell_type": "code",
   "execution_count": 3,
   "metadata": {},
   "outputs": [
    {
     "data": {
      "text/html": [
       "<div>\n",
       "<style scoped>\n",
       "    .dataframe tbody tr th:only-of-type {\n",
       "        vertical-align: middle;\n",
       "    }\n",
       "\n",
       "    .dataframe tbody tr th {\n",
       "        vertical-align: top;\n",
       "    }\n",
       "\n",
       "    .dataframe thead th {\n",
       "        text-align: right;\n",
       "    }\n",
       "</style>\n",
       "<table border=\"1\" class=\"dataframe\">\n",
       "  <thead>\n",
       "    <tr style=\"text-align: right;\">\n",
       "      <th></th>\n",
       "      <th>age</th>\n",
       "      <th>job</th>\n",
       "      <th>marital</th>\n",
       "      <th>education</th>\n",
       "      <th>default</th>\n",
       "      <th>balance</th>\n",
       "      <th>housing</th>\n",
       "      <th>loan</th>\n",
       "      <th>contact</th>\n",
       "      <th>day</th>\n",
       "      <th>month</th>\n",
       "      <th>duration</th>\n",
       "      <th>campaign</th>\n",
       "      <th>pdays</th>\n",
       "      <th>previous</th>\n",
       "      <th>poutcome</th>\n",
       "      <th>Target</th>\n",
       "    </tr>\n",
       "  </thead>\n",
       "  <tbody>\n",
       "    <tr>\n",
       "      <th>0</th>\n",
       "      <td>58</td>\n",
       "      <td>management</td>\n",
       "      <td>married</td>\n",
       "      <td>tertiary</td>\n",
       "      <td>no</td>\n",
       "      <td>2143</td>\n",
       "      <td>yes</td>\n",
       "      <td>no</td>\n",
       "      <td>unknown</td>\n",
       "      <td>5</td>\n",
       "      <td>may</td>\n",
       "      <td>261</td>\n",
       "      <td>1</td>\n",
       "      <td>-1</td>\n",
       "      <td>0</td>\n",
       "      <td>unknown</td>\n",
       "      <td>no</td>\n",
       "    </tr>\n",
       "    <tr>\n",
       "      <th>1</th>\n",
       "      <td>44</td>\n",
       "      <td>technician</td>\n",
       "      <td>single</td>\n",
       "      <td>secondary</td>\n",
       "      <td>no</td>\n",
       "      <td>29</td>\n",
       "      <td>yes</td>\n",
       "      <td>no</td>\n",
       "      <td>unknown</td>\n",
       "      <td>5</td>\n",
       "      <td>may</td>\n",
       "      <td>151</td>\n",
       "      <td>1</td>\n",
       "      <td>-1</td>\n",
       "      <td>0</td>\n",
       "      <td>unknown</td>\n",
       "      <td>no</td>\n",
       "    </tr>\n",
       "    <tr>\n",
       "      <th>2</th>\n",
       "      <td>33</td>\n",
       "      <td>entrepreneur</td>\n",
       "      <td>married</td>\n",
       "      <td>secondary</td>\n",
       "      <td>no</td>\n",
       "      <td>2</td>\n",
       "      <td>yes</td>\n",
       "      <td>yes</td>\n",
       "      <td>unknown</td>\n",
       "      <td>5</td>\n",
       "      <td>may</td>\n",
       "      <td>76</td>\n",
       "      <td>1</td>\n",
       "      <td>-1</td>\n",
       "      <td>0</td>\n",
       "      <td>unknown</td>\n",
       "      <td>no</td>\n",
       "    </tr>\n",
       "    <tr>\n",
       "      <th>3</th>\n",
       "      <td>47</td>\n",
       "      <td>blue-collar</td>\n",
       "      <td>married</td>\n",
       "      <td>unknown</td>\n",
       "      <td>no</td>\n",
       "      <td>1506</td>\n",
       "      <td>yes</td>\n",
       "      <td>no</td>\n",
       "      <td>unknown</td>\n",
       "      <td>5</td>\n",
       "      <td>may</td>\n",
       "      <td>92</td>\n",
       "      <td>1</td>\n",
       "      <td>-1</td>\n",
       "      <td>0</td>\n",
       "      <td>unknown</td>\n",
       "      <td>no</td>\n",
       "    </tr>\n",
       "    <tr>\n",
       "      <th>4</th>\n",
       "      <td>33</td>\n",
       "      <td>unknown</td>\n",
       "      <td>single</td>\n",
       "      <td>unknown</td>\n",
       "      <td>no</td>\n",
       "      <td>1</td>\n",
       "      <td>no</td>\n",
       "      <td>no</td>\n",
       "      <td>unknown</td>\n",
       "      <td>5</td>\n",
       "      <td>may</td>\n",
       "      <td>198</td>\n",
       "      <td>1</td>\n",
       "      <td>-1</td>\n",
       "      <td>0</td>\n",
       "      <td>unknown</td>\n",
       "      <td>no</td>\n",
       "    </tr>\n",
       "    <tr>\n",
       "      <th>5</th>\n",
       "      <td>35</td>\n",
       "      <td>management</td>\n",
       "      <td>married</td>\n",
       "      <td>tertiary</td>\n",
       "      <td>no</td>\n",
       "      <td>231</td>\n",
       "      <td>yes</td>\n",
       "      <td>no</td>\n",
       "      <td>unknown</td>\n",
       "      <td>5</td>\n",
       "      <td>may</td>\n",
       "      <td>139</td>\n",
       "      <td>1</td>\n",
       "      <td>-1</td>\n",
       "      <td>0</td>\n",
       "      <td>unknown</td>\n",
       "      <td>no</td>\n",
       "    </tr>\n",
       "    <tr>\n",
       "      <th>6</th>\n",
       "      <td>28</td>\n",
       "      <td>management</td>\n",
       "      <td>single</td>\n",
       "      <td>tertiary</td>\n",
       "      <td>no</td>\n",
       "      <td>447</td>\n",
       "      <td>yes</td>\n",
       "      <td>yes</td>\n",
       "      <td>unknown</td>\n",
       "      <td>5</td>\n",
       "      <td>may</td>\n",
       "      <td>217</td>\n",
       "      <td>1</td>\n",
       "      <td>-1</td>\n",
       "      <td>0</td>\n",
       "      <td>unknown</td>\n",
       "      <td>no</td>\n",
       "    </tr>\n",
       "    <tr>\n",
       "      <th>7</th>\n",
       "      <td>42</td>\n",
       "      <td>entrepreneur</td>\n",
       "      <td>divorced</td>\n",
       "      <td>tertiary</td>\n",
       "      <td>yes</td>\n",
       "      <td>2</td>\n",
       "      <td>yes</td>\n",
       "      <td>no</td>\n",
       "      <td>unknown</td>\n",
       "      <td>5</td>\n",
       "      <td>may</td>\n",
       "      <td>380</td>\n",
       "      <td>1</td>\n",
       "      <td>-1</td>\n",
       "      <td>0</td>\n",
       "      <td>unknown</td>\n",
       "      <td>no</td>\n",
       "    </tr>\n",
       "    <tr>\n",
       "      <th>8</th>\n",
       "      <td>58</td>\n",
       "      <td>retired</td>\n",
       "      <td>married</td>\n",
       "      <td>primary</td>\n",
       "      <td>no</td>\n",
       "      <td>121</td>\n",
       "      <td>yes</td>\n",
       "      <td>no</td>\n",
       "      <td>unknown</td>\n",
       "      <td>5</td>\n",
       "      <td>may</td>\n",
       "      <td>50</td>\n",
       "      <td>1</td>\n",
       "      <td>-1</td>\n",
       "      <td>0</td>\n",
       "      <td>unknown</td>\n",
       "      <td>no</td>\n",
       "    </tr>\n",
       "    <tr>\n",
       "      <th>9</th>\n",
       "      <td>43</td>\n",
       "      <td>technician</td>\n",
       "      <td>single</td>\n",
       "      <td>secondary</td>\n",
       "      <td>no</td>\n",
       "      <td>593</td>\n",
       "      <td>yes</td>\n",
       "      <td>no</td>\n",
       "      <td>unknown</td>\n",
       "      <td>5</td>\n",
       "      <td>may</td>\n",
       "      <td>55</td>\n",
       "      <td>1</td>\n",
       "      <td>-1</td>\n",
       "      <td>0</td>\n",
       "      <td>unknown</td>\n",
       "      <td>no</td>\n",
       "    </tr>\n",
       "  </tbody>\n",
       "</table>\n",
       "</div>"
      ],
      "text/plain": [
       "   age           job   marital  education default  balance housing loan  \\\n",
       "0   58    management   married   tertiary      no     2143     yes   no   \n",
       "1   44    technician    single  secondary      no       29     yes   no   \n",
       "2   33  entrepreneur   married  secondary      no        2     yes  yes   \n",
       "3   47   blue-collar   married    unknown      no     1506     yes   no   \n",
       "4   33       unknown    single    unknown      no        1      no   no   \n",
       "5   35    management   married   tertiary      no      231     yes   no   \n",
       "6   28    management    single   tertiary      no      447     yes  yes   \n",
       "7   42  entrepreneur  divorced   tertiary     yes        2     yes   no   \n",
       "8   58       retired   married    primary      no      121     yes   no   \n",
       "9   43    technician    single  secondary      no      593     yes   no   \n",
       "\n",
       "   contact  day month  duration  campaign  pdays  previous poutcome Target  \n",
       "0  unknown    5   may       261         1     -1         0  unknown     no  \n",
       "1  unknown    5   may       151         1     -1         0  unknown     no  \n",
       "2  unknown    5   may        76         1     -1         0  unknown     no  \n",
       "3  unknown    5   may        92         1     -1         0  unknown     no  \n",
       "4  unknown    5   may       198         1     -1         0  unknown     no  \n",
       "5  unknown    5   may       139         1     -1         0  unknown     no  \n",
       "6  unknown    5   may       217         1     -1         0  unknown     no  \n",
       "7  unknown    5   may       380         1     -1         0  unknown     no  \n",
       "8  unknown    5   may        50         1     -1         0  unknown     no  \n",
       "9  unknown    5   may        55         1     -1         0  unknown     no  "
      ]
     },
     "execution_count": 3,
     "metadata": {},
     "output_type": "execute_result"
    }
   ],
   "source": [
    "# Check top few records to get a feel of the data structure\n",
    "bank_df.head(10)"
   ]
  },
  {
   "cell_type": "markdown",
   "metadata": {},
   "source": [
    "### 3. Perform basic EDA which should include the following and print out your insights at every step."
   ]
  },
  {
   "cell_type": "markdown",
   "metadata": {},
   "source": [
    "#### a. Shape of the data"
   ]
  },
  {
   "cell_type": "code",
   "execution_count": 4,
   "metadata": {},
   "outputs": [
    {
     "data": {
      "text/plain": [
       "(45211, 17)"
      ]
     },
     "execution_count": 4,
     "metadata": {},
     "output_type": "execute_result"
    }
   ],
   "source": [
    "bank_df.shape"
   ]
  },
  {
   "cell_type": "markdown",
   "metadata": {},
   "source": [
    "#### b. Data type of each attribute"
   ]
  },
  {
   "cell_type": "code",
   "execution_count": 5,
   "metadata": {
    "scrolled": true
   },
   "outputs": [
    {
     "data": {
      "text/plain": [
       "age           int64\n",
       "job          object\n",
       "marital      object\n",
       "education    object\n",
       "default      object\n",
       "balance       int64\n",
       "housing      object\n",
       "loan         object\n",
       "contact      object\n",
       "day           int64\n",
       "month        object\n",
       "duration      int64\n",
       "campaign      int64\n",
       "pdays         int64\n",
       "previous      int64\n",
       "poutcome     object\n",
       "Target       object\n",
       "dtype: object"
      ]
     },
     "execution_count": 5,
     "metadata": {},
     "output_type": "execute_result"
    }
   ],
   "source": [
    "bank_df.dtypes"
   ]
  },
  {
   "cell_type": "code",
   "execution_count": 6,
   "metadata": {},
   "outputs": [],
   "source": [
    "#convert to numbers\n",
    "bank_df['Target'] = bank_df['Target'].map({'yes': 1, 'no': 0})"
   ]
  },
  {
   "cell_type": "code",
   "execution_count": 7,
   "metadata": {},
   "outputs": [],
   "source": [
    "bank_df['default'] = bank_df['default'].map({'yes': 1, 'no': 0})"
   ]
  },
  {
   "cell_type": "code",
   "execution_count": 8,
   "metadata": {},
   "outputs": [],
   "source": [
    "bank_df['housing'] = bank_df['housing'].map({'yes': 1, 'no': 0})"
   ]
  },
  {
   "cell_type": "code",
   "execution_count": 9,
   "metadata": {},
   "outputs": [],
   "source": [
    "bank_df['loan'] = bank_df['loan'].map({'yes': 1, 'no': 0})"
   ]
  },
  {
   "cell_type": "code",
   "execution_count": 10,
   "metadata": {
    "scrolled": false
   },
   "outputs": [
    {
     "data": {
      "text/plain": [
       "age           int64\n",
       "job          object\n",
       "marital      object\n",
       "education    object\n",
       "default       int64\n",
       "balance       int64\n",
       "housing       int64\n",
       "loan          int64\n",
       "contact      object\n",
       "day           int64\n",
       "month        object\n",
       "duration      int64\n",
       "campaign      int64\n",
       "pdays         int64\n",
       "previous      int64\n",
       "poutcome     object\n",
       "Target        int64\n",
       "dtype: object"
      ]
     },
     "execution_count": 10,
     "metadata": {},
     "output_type": "execute_result"
    }
   ],
   "source": [
    "bank_df.dtypes"
   ]
  },
  {
   "cell_type": "code",
   "execution_count": 11,
   "metadata": {},
   "outputs": [],
   "source": [
    "first_type_dict = {'age':'int64','job':'object','marital':'object','education':'object','default':'bool','balance':'int64','housing':'bool','loan':'bool','contact':'object','day':'int64','month':'object','duration':'int64','campaign':'int64','pdays':'int64','previous':'int64','poutcome':'object','Target':'bool'}\n",
    "bank_df = bank_df.astype(first_type_dict)"
   ]
  },
  {
   "cell_type": "code",
   "execution_count": 12,
   "metadata": {
    "scrolled": true
   },
   "outputs": [
    {
     "data": {
      "text/plain": [
       "<seaborn.axisgrid.FacetGrid at 0x259dcbde860>"
      ]
     },
     "execution_count": 12,
     "metadata": {},
     "output_type": "execute_result"
    },
    {
     "data": {
      "image/png": "[encoded data removed]",
      "text/plain": [
       "<Figure size 426.35x360 with 1 Axes>"
      ]
     },
     "metadata": {},
     "output_type": "display_data"
    }
   ],
   "source": [
    "#plot month freq\n",
    "sns.set(style=\"ticks\", color_codes=True)\n",
    "sns.catplot(x='month',hue='Target', kind=\"count\", data=bank_df)"
   ]
  },
  {
   "cell_type": "markdown",
   "metadata": {},
   "source": [
    "### Looks like there is some impact of month on target (0/1) distribution.. Sep, Mar, oct seems good months"
   ]
  },
  {
   "cell_type": "code",
   "execution_count": 13,
   "metadata": {},
   "outputs": [
    {
     "data": {
      "text/plain": [
       "<seaborn.axisgrid.FacetGrid at 0x259e03b9438>"
      ]
     },
     "execution_count": 13,
     "metadata": {},
     "output_type": "execute_result"
    },
    {
     "data": {
      "image/png": "[encoded data removed]",
      "text/plain": [
       "<Figure size 426.35x360 with 1 Axes>"
      ]
     },
     "metadata": {},
     "output_type": "display_data"
    }
   ],
   "source": [
    "#plot target against day\n",
    "#plot month freq\n",
    "sns.set(style=\"ticks\", color_codes=True)\n",
    "sns.catplot(x='day',hue='Target', kind=\"count\", data=bank_df)"
   ]
  },
  {
   "cell_type": "code",
   "execution_count": 14,
   "metadata": {},
   "outputs": [
    {
     "data": {
      "text/html": [
       "<div>\n",
       "<style scoped>\n",
       "    .dataframe tbody tr th:only-of-type {\n",
       "        vertical-align: middle;\n",
       "    }\n",
       "\n",
       "    .dataframe tbody tr th {\n",
       "        vertical-align: top;\n",
       "    }\n",
       "\n",
       "    .dataframe thead th {\n",
       "        text-align: right;\n",
       "    }\n",
       "</style>\n",
       "<table border=\"1\" class=\"dataframe\">\n",
       "  <thead>\n",
       "    <tr style=\"text-align: right;\">\n",
       "      <th></th>\n",
       "      <th>age</th>\n",
       "      <th>job</th>\n",
       "      <th>marital</th>\n",
       "      <th>education</th>\n",
       "      <th>default</th>\n",
       "      <th>balance</th>\n",
       "      <th>housing</th>\n",
       "      <th>loan</th>\n",
       "      <th>contact</th>\n",
       "      <th>day</th>\n",
       "      <th>month</th>\n",
       "      <th>duration</th>\n",
       "      <th>campaign</th>\n",
       "      <th>pdays</th>\n",
       "      <th>previous</th>\n",
       "      <th>poutcome</th>\n",
       "      <th>Target</th>\n",
       "    </tr>\n",
       "  </thead>\n",
       "  <tbody>\n",
       "    <tr>\n",
       "      <th>0</th>\n",
       "      <td>58</td>\n",
       "      <td>management</td>\n",
       "      <td>married</td>\n",
       "      <td>tertiary</td>\n",
       "      <td>False</td>\n",
       "      <td>2143</td>\n",
       "      <td>True</td>\n",
       "      <td>False</td>\n",
       "      <td>unknown</td>\n",
       "      <td>5</td>\n",
       "      <td>may</td>\n",
       "      <td>261</td>\n",
       "      <td>1</td>\n",
       "      <td>-1</td>\n",
       "      <td>0</td>\n",
       "      <td>unknown</td>\n",
       "      <td>False</td>\n",
       "    </tr>\n",
       "    <tr>\n",
       "      <th>1</th>\n",
       "      <td>44</td>\n",
       "      <td>technician</td>\n",
       "      <td>single</td>\n",
       "      <td>secondary</td>\n",
       "      <td>False</td>\n",
       "      <td>29</td>\n",
       "      <td>True</td>\n",
       "      <td>False</td>\n",
       "      <td>unknown</td>\n",
       "      <td>5</td>\n",
       "      <td>may</td>\n",
       "      <td>151</td>\n",
       "      <td>1</td>\n",
       "      <td>-1</td>\n",
       "      <td>0</td>\n",
       "      <td>unknown</td>\n",
       "      <td>False</td>\n",
       "    </tr>\n",
       "    <tr>\n",
       "      <th>2</th>\n",
       "      <td>33</td>\n",
       "      <td>entrepreneur</td>\n",
       "      <td>married</td>\n",
       "      <td>secondary</td>\n",
       "      <td>False</td>\n",
       "      <td>2</td>\n",
       "      <td>True</td>\n",
       "      <td>True</td>\n",
       "      <td>unknown</td>\n",
       "      <td>5</td>\n",
       "      <td>may</td>\n",
       "      <td>76</td>\n",
       "      <td>1</td>\n",
       "      <td>-1</td>\n",
       "      <td>0</td>\n",
       "      <td>unknown</td>\n",
       "      <td>False</td>\n",
       "    </tr>\n",
       "    <tr>\n",
       "      <th>3</th>\n",
       "      <td>47</td>\n",
       "      <td>blue-collar</td>\n",
       "      <td>married</td>\n",
       "      <td>unknown</td>\n",
       "      <td>False</td>\n",
       "      <td>1506</td>\n",
       "      <td>True</td>\n",
       "      <td>False</td>\n",
       "      <td>unknown</td>\n",
       "      <td>5</td>\n",
       "      <td>may</td>\n",
       "      <td>92</td>\n",
       "      <td>1</td>\n",
       "      <td>-1</td>\n",
       "      <td>0</td>\n",
       "      <td>unknown</td>\n",
       "      <td>False</td>\n",
       "    </tr>\n",
       "    <tr>\n",
       "      <th>4</th>\n",
       "      <td>33</td>\n",
       "      <td>unknown</td>\n",
       "      <td>single</td>\n",
       "      <td>unknown</td>\n",
       "      <td>False</td>\n",
       "      <td>1</td>\n",
       "      <td>False</td>\n",
       "      <td>False</td>\n",
       "      <td>unknown</td>\n",
       "      <td>5</td>\n",
       "      <td>may</td>\n",
       "      <td>198</td>\n",
       "      <td>1</td>\n",
       "      <td>-1</td>\n",
       "      <td>0</td>\n",
       "      <td>unknown</td>\n",
       "      <td>False</td>\n",
       "    </tr>\n",
       "    <tr>\n",
       "      <th>5</th>\n",
       "      <td>35</td>\n",
       "      <td>management</td>\n",
       "      <td>married</td>\n",
       "      <td>tertiary</td>\n",
       "      <td>False</td>\n",
       "      <td>231</td>\n",
       "      <td>True</td>\n",
       "      <td>False</td>\n",
       "      <td>unknown</td>\n",
       "      <td>5</td>\n",
       "      <td>may</td>\n",
       "      <td>139</td>\n",
       "      <td>1</td>\n",
       "      <td>-1</td>\n",
       "      <td>0</td>\n",
       "      <td>unknown</td>\n",
       "      <td>False</td>\n",
       "    </tr>\n",
       "    <tr>\n",
       "      <th>6</th>\n",
       "      <td>28</td>\n",
       "      <td>management</td>\n",
       "      <td>single</td>\n",
       "      <td>tertiary</td>\n",
       "      <td>False</td>\n",
       "      <td>447</td>\n",
       "      <td>True</td>\n",
       "      <td>True</td>\n",
       "      <td>unknown</td>\n",
       "      <td>5</td>\n",
       "      <td>may</td>\n",
       "      <td>217</td>\n",
       "      <td>1</td>\n",
       "      <td>-1</td>\n",
       "      <td>0</td>\n",
       "      <td>unknown</td>\n",
       "      <td>False</td>\n",
       "    </tr>\n",
       "    <tr>\n",
       "      <th>7</th>\n",
       "      <td>42</td>\n",
       "      <td>entrepreneur</td>\n",
       "      <td>divorced</td>\n",
       "      <td>tertiary</td>\n",
       "      <td>True</td>\n",
       "      <td>2</td>\n",
       "      <td>True</td>\n",
       "      <td>False</td>\n",
       "      <td>unknown</td>\n",
       "      <td>5</td>\n",
       "      <td>may</td>\n",
       "      <td>380</td>\n",
       "      <td>1</td>\n",
       "      <td>-1</td>\n",
       "      <td>0</td>\n",
       "      <td>unknown</td>\n",
       "      <td>False</td>\n",
       "    </tr>\n",
       "    <tr>\n",
       "      <th>8</th>\n",
       "      <td>58</td>\n",
       "      <td>retired</td>\n",
       "      <td>married</td>\n",
       "      <td>primary</td>\n",
       "      <td>False</td>\n",
       "      <td>121</td>\n",
       "      <td>True</td>\n",
       "      <td>False</td>\n",
       "      <td>unknown</td>\n",
       "      <td>5</td>\n",
       "      <td>may</td>\n",
       "      <td>50</td>\n",
       "      <td>1</td>\n",
       "      <td>-1</td>\n",
       "      <td>0</td>\n",
       "      <td>unknown</td>\n",
       "      <td>False</td>\n",
       "    </tr>\n",
       "    <tr>\n",
       "      <th>9</th>\n",
       "      <td>43</td>\n",
       "      <td>technician</td>\n",
       "      <td>single</td>\n",
       "      <td>secondary</td>\n",
       "      <td>False</td>\n",
       "      <td>593</td>\n",
       "      <td>True</td>\n",
       "      <td>False</td>\n",
       "      <td>unknown</td>\n",
       "      <td>5</td>\n",
       "      <td>may</td>\n",
       "      <td>55</td>\n",
       "      <td>1</td>\n",
       "      <td>-1</td>\n",
       "      <td>0</td>\n",
       "      <td>unknown</td>\n",
       "      <td>False</td>\n",
       "    </tr>\n",
       "  </tbody>\n",
       "</table>\n",
       "</div>"
      ],
      "text/plain": [
       "   age           job   marital  education  default  balance  housing   loan  \\\n",
       "0   58    management   married   tertiary    False     2143     True  False   \n",
       "1   44    technician    single  secondary    False       29     True  False   \n",
       "2   33  entrepreneur   married  secondary    False        2     True   True   \n",
       "3   47   blue-collar   married    unknown    False     1506     True  False   \n",
       "4   33       unknown    single    unknown    False        1    False  False   \n",
       "5   35    management   married   tertiary    False      231     True  False   \n",
       "6   28    management    single   tertiary    False      447     True   True   \n",
       "7   42  entrepreneur  divorced   tertiary     True        2     True  False   \n",
       "8   58       retired   married    primary    False      121     True  False   \n",
       "9   43    technician    single  secondary    False      593     True  False   \n",
       "\n",
       "   contact  day month  duration  campaign  pdays  previous poutcome  Target  \n",
       "0  unknown    5   may       261         1     -1         0  unknown   False  \n",
       "1  unknown    5   may       151         1     -1         0  unknown   False  \n",
       "2  unknown    5   may        76         1     -1         0  unknown   False  \n",
       "3  unknown    5   may        92         1     -1         0  unknown   False  \n",
       "4  unknown    5   may       198         1     -1         0  unknown   False  \n",
       "5  unknown    5   may       139         1     -1         0  unknown   False  \n",
       "6  unknown    5   may       217         1     -1         0  unknown   False  \n",
       "7  unknown    5   may       380         1     -1         0  unknown   False  \n",
       "8  unknown    5   may        50         1     -1         0  unknown   False  \n",
       "9  unknown    5   may        55         1     -1         0  unknown   False  "
      ]
     },
     "execution_count": 14,
     "metadata": {},
     "output_type": "execute_result"
    }
   ],
   "source": [
    "# job, marital, education, contact, poutcome, month, day are categorical, lets one hot them\n",
    "\n",
    "bank_df.head(10)"
   ]
  },
  {
   "cell_type": "markdown",
   "metadata": {},
   "source": [
    "#### c. Checking the presence of missing values"
   ]
  },
  {
   "cell_type": "code",
   "execution_count": 15,
   "metadata": {},
   "outputs": [
    {
     "name": "stdout",
     "output_type": "stream",
     "text": [
      "<class 'pandas.core.frame.DataFrame'>\n",
      "RangeIndex: 45211 entries, 0 to 45210\n",
      "Data columns (total 17 columns):\n",
      "age          45211 non-null int64\n",
      "job          45211 non-null object\n",
      "marital      45211 non-null object\n",
      "education    45211 non-null object\n",
      "default      45211 non-null bool\n",
      "balance      45211 non-null int64\n",
      "housing      45211 non-null bool\n",
      "loan         45211 non-null bool\n",
      "contact      45211 non-null object\n",
      "day          45211 non-null int64\n",
      "month        45211 non-null object\n",
      "duration     45211 non-null int64\n",
      "campaign     45211 non-null int64\n",
      "pdays        45211 non-null int64\n",
      "previous     45211 non-null int64\n",
      "poutcome     45211 non-null object\n",
      "Target       45211 non-null bool\n",
      "dtypes: bool(4), int64(7), object(6)\n",
      "memory usage: 4.7+ MB\n"
     ]
    }
   ],
   "source": [
    "bank_df.info()"
   ]
  },
  {
   "cell_type": "markdown",
   "metadata": {},
   "source": [
    "#### d. 5 point summary of numerical attributes"
   ]
  },
  {
   "cell_type": "code",
   "execution_count": 16,
   "metadata": {},
   "outputs": [
    {
     "data": {
      "text/html": [
       "<div>\n",
       "<style scoped>\n",
       "    .dataframe tbody tr th:only-of-type {\n",
       "        vertical-align: middle;\n",
       "    }\n",
       "\n",
       "    .dataframe tbody tr th {\n",
       "        vertical-align: top;\n",
       "    }\n",
       "\n",
       "    .dataframe thead th {\n",
       "        text-align: right;\n",
       "    }\n",
       "</style>\n",
       "<table border=\"1\" class=\"dataframe\">\n",
       "  <thead>\n",
       "    <tr style=\"text-align: right;\">\n",
       "      <th></th>\n",
       "      <th>count</th>\n",
       "      <th>mean</th>\n",
       "      <th>std</th>\n",
       "      <th>min</th>\n",
       "      <th>25%</th>\n",
       "      <th>50%</th>\n",
       "      <th>75%</th>\n",
       "      <th>max</th>\n",
       "    </tr>\n",
       "  </thead>\n",
       "  <tbody>\n",
       "    <tr>\n",
       "      <th>age</th>\n",
       "      <td>45211.0</td>\n",
       "      <td>40.936210</td>\n",
       "      <td>10.618762</td>\n",
       "      <td>18.0</td>\n",
       "      <td>33.0</td>\n",
       "      <td>39.0</td>\n",
       "      <td>48.0</td>\n",
       "      <td>95.0</td>\n",
       "    </tr>\n",
       "    <tr>\n",
       "      <th>balance</th>\n",
       "      <td>45211.0</td>\n",
       "      <td>1362.272058</td>\n",
       "      <td>3044.765829</td>\n",
       "      <td>-8019.0</td>\n",
       "      <td>72.0</td>\n",
       "      <td>448.0</td>\n",
       "      <td>1428.0</td>\n",
       "      <td>102127.0</td>\n",
       "    </tr>\n",
       "    <tr>\n",
       "      <th>day</th>\n",
       "      <td>45211.0</td>\n",
       "      <td>15.806419</td>\n",
       "      <td>8.322476</td>\n",
       "      <td>1.0</td>\n",
       "      <td>8.0</td>\n",
       "      <td>16.0</td>\n",
       "      <td>21.0</td>\n",
       "      <td>31.0</td>\n",
       "    </tr>\n",
       "    <tr>\n",
       "      <th>duration</th>\n",
       "      <td>45211.0</td>\n",
       "      <td>258.163080</td>\n",
       "      <td>257.527812</td>\n",
       "      <td>0.0</td>\n",
       "      <td>103.0</td>\n",
       "      <td>180.0</td>\n",
       "      <td>319.0</td>\n",
       "      <td>4918.0</td>\n",
       "    </tr>\n",
       "    <tr>\n",
       "      <th>campaign</th>\n",
       "      <td>45211.0</td>\n",
       "      <td>2.763841</td>\n",
       "      <td>3.098021</td>\n",
       "      <td>1.0</td>\n",
       "      <td>1.0</td>\n",
       "      <td>2.0</td>\n",
       "      <td>3.0</td>\n",
       "      <td>63.0</td>\n",
       "    </tr>\n",
       "    <tr>\n",
       "      <th>pdays</th>\n",
       "      <td>45211.0</td>\n",
       "      <td>40.197828</td>\n",
       "      <td>100.128746</td>\n",
       "      <td>-1.0</td>\n",
       "      <td>-1.0</td>\n",
       "      <td>-1.0</td>\n",
       "      <td>-1.0</td>\n",
       "      <td>871.0</td>\n",
       "    </tr>\n",
       "    <tr>\n",
       "      <th>previous</th>\n",
       "      <td>45211.0</td>\n",
       "      <td>0.580323</td>\n",
       "      <td>2.303441</td>\n",
       "      <td>0.0</td>\n",
       "      <td>0.0</td>\n",
       "      <td>0.0</td>\n",
       "      <td>0.0</td>\n",
       "      <td>275.0</td>\n",
       "    </tr>\n",
       "  </tbody>\n",
       "</table>\n",
       "</div>"
      ],
      "text/plain": [
       "            count         mean          std     min    25%    50%     75%  \\\n",
       "age       45211.0    40.936210    10.618762    18.0   33.0   39.0    48.0   \n",
       "balance   45211.0  1362.272058  3044.765829 -8019.0   72.0  448.0  1428.0   \n",
       "day       45211.0    15.806419     8.322476     1.0    8.0   16.0    21.0   \n",
       "duration  45211.0   258.163080   257.527812     0.0  103.0  180.0   319.0   \n",
       "campaign  45211.0     2.763841     3.098021     1.0    1.0    2.0     3.0   \n",
       "pdays     45211.0    40.197828   100.128746    -1.0   -1.0   -1.0    -1.0   \n",
       "previous  45211.0     0.580323     2.303441     0.0    0.0    0.0     0.0   \n",
       "\n",
       "               max  \n",
       "age           95.0  \n",
       "balance   102127.0  \n",
       "day           31.0  \n",
       "duration    4918.0  \n",
       "campaign      63.0  \n",
       "pdays        871.0  \n",
       "previous     275.0  "
      ]
     },
     "execution_count": 16,
     "metadata": {},
     "output_type": "execute_result"
    }
   ],
   "source": [
    "bank_df.describe().transpose()"
   ]
  },
  {
   "cell_type": "code",
   "execution_count": 17,
   "metadata": {
    "scrolled": true
   },
   "outputs": [],
   "source": [
    "#just want to sns pair plot before all treatment\n",
    "#sns.pairplot(bank_df, hue=\"Target\")"
   ]
  },
  {
   "cell_type": "markdown",
   "metadata": {},
   "source": [
    "#### e. Checking the presence of outliers"
   ]
  },
  {
   "cell_type": "code",
   "execution_count": 18,
   "metadata": {
    "scrolled": false
   },
   "outputs": [
    {
     "data": {
      "text/plain": [
       "<matplotlib.axes._subplots.AxesSubplot at 0x259e1c19fd0>"
      ]
     },
     "execution_count": 18,
     "metadata": {},
     "output_type": "execute_result"
    },
    {
     "data": {
      "image/png": "[encoded data removed]",
      "text/plain": [
       "<Figure size 432x288 with 1 Axes>"
      ]
     },
     "metadata": {},
     "output_type": "display_data"
    }
   ],
   "source": [
    "sns.boxplot(data=bank_df)"
   ]
  },
  {
   "cell_type": "code",
   "execution_count": 19,
   "metadata": {
    "scrolled": true
   },
   "outputs": [
    {
     "data": {
      "text/html": [
       "<div>\n",
       "<style scoped>\n",
       "    .dataframe tbody tr th:only-of-type {\n",
       "        vertical-align: middle;\n",
       "    }\n",
       "\n",
       "    .dataframe tbody tr th {\n",
       "        vertical-align: top;\n",
       "    }\n",
       "\n",
       "    .dataframe thead th {\n",
       "        text-align: right;\n",
       "    }\n",
       "</style>\n",
       "<table border=\"1\" class=\"dataframe\">\n",
       "  <thead>\n",
       "    <tr style=\"text-align: right;\">\n",
       "      <th></th>\n",
       "      <th>age</th>\n",
       "      <th>job</th>\n",
       "      <th>marital</th>\n",
       "      <th>education</th>\n",
       "      <th>default</th>\n",
       "      <th>balance</th>\n",
       "      <th>housing</th>\n",
       "      <th>loan</th>\n",
       "      <th>contact</th>\n",
       "      <th>day</th>\n",
       "      <th>month</th>\n",
       "      <th>duration</th>\n",
       "      <th>campaign</th>\n",
       "      <th>pdays</th>\n",
       "      <th>previous</th>\n",
       "      <th>poutcome</th>\n",
       "    </tr>\n",
       "    <tr>\n",
       "      <th>Target</th>\n",
       "      <th></th>\n",
       "      <th></th>\n",
       "      <th></th>\n",
       "      <th></th>\n",
       "      <th></th>\n",
       "      <th></th>\n",
       "      <th></th>\n",
       "      <th></th>\n",
       "      <th></th>\n",
       "      <th></th>\n",
       "      <th></th>\n",
       "      <th></th>\n",
       "      <th></th>\n",
       "      <th></th>\n",
       "      <th></th>\n",
       "      <th></th>\n",
       "    </tr>\n",
       "  </thead>\n",
       "  <tbody>\n",
       "    <tr>\n",
       "      <th>False</th>\n",
       "      <td>39922</td>\n",
       "      <td>39922</td>\n",
       "      <td>39922</td>\n",
       "      <td>39922</td>\n",
       "      <td>39922</td>\n",
       "      <td>39922</td>\n",
       "      <td>39922</td>\n",
       "      <td>39922</td>\n",
       "      <td>39922</td>\n",
       "      <td>39922</td>\n",
       "      <td>39922</td>\n",
       "      <td>39922</td>\n",
       "      <td>39922</td>\n",
       "      <td>39922</td>\n",
       "      <td>39922</td>\n",
       "      <td>39922</td>\n",
       "    </tr>\n",
       "    <tr>\n",
       "      <th>True</th>\n",
       "      <td>5289</td>\n",
       "      <td>5289</td>\n",
       "      <td>5289</td>\n",
       "      <td>5289</td>\n",
       "      <td>5289</td>\n",
       "      <td>5289</td>\n",
       "      <td>5289</td>\n",
       "      <td>5289</td>\n",
       "      <td>5289</td>\n",
       "      <td>5289</td>\n",
       "      <td>5289</td>\n",
       "      <td>5289</td>\n",
       "      <td>5289</td>\n",
       "      <td>5289</td>\n",
       "      <td>5289</td>\n",
       "      <td>5289</td>\n",
       "    </tr>\n",
       "  </tbody>\n",
       "</table>\n",
       "</div>"
      ],
      "text/plain": [
       "          age    job  marital  education  default  balance  housing   loan  \\\n",
       "Target                                                                       \n",
       "False   39922  39922    39922      39922    39922    39922    39922  39922   \n",
       "True     5289   5289     5289       5289     5289     5289     5289   5289   \n",
       "\n",
       "        contact    day  month  duration  campaign  pdays  previous  poutcome  \n",
       "Target                                                                        \n",
       "False     39922  39922  39922     39922     39922  39922     39922     39922  \n",
       "True       5289   5289   5289      5289      5289   5289      5289      5289  "
      ]
     },
     "execution_count": 19,
     "metadata": {},
     "output_type": "execute_result"
    }
   ],
   "source": [
    "#just check outcomes for skew - looks like there is some skew\n",
    "bank_df.groupby(['Target']).count()"
   ]
  },
  {
   "cell_type": "markdown",
   "metadata": {},
   "source": [
    "### Ratio  of 0 : 1 == 0.8830151954170445: 0.1169848045829555 (0.883 : 0.117)"
   ]
  },
  {
   "cell_type": "code",
   "execution_count": 20,
   "metadata": {},
   "outputs": [
    {
     "data": {
      "text/html": [
       "<div>\n",
       "<style scoped>\n",
       "    .dataframe tbody tr th:only-of-type {\n",
       "        vertical-align: middle;\n",
       "    }\n",
       "\n",
       "    .dataframe tbody tr th {\n",
       "        vertical-align: top;\n",
       "    }\n",
       "\n",
       "    .dataframe thead th {\n",
       "        text-align: right;\n",
       "    }\n",
       "</style>\n",
       "<table border=\"1\" class=\"dataframe\">\n",
       "  <thead>\n",
       "    <tr style=\"text-align: right;\">\n",
       "      <th></th>\n",
       "      <th>age</th>\n",
       "      <th>default</th>\n",
       "      <th>balance</th>\n",
       "      <th>housing</th>\n",
       "      <th>loan</th>\n",
       "      <th>day</th>\n",
       "      <th>duration</th>\n",
       "      <th>campaign</th>\n",
       "      <th>pdays</th>\n",
       "      <th>previous</th>\n",
       "      <th>Target</th>\n",
       "    </tr>\n",
       "  </thead>\n",
       "  <tbody>\n",
       "    <tr>\n",
       "      <th>age</th>\n",
       "      <td>1.000000</td>\n",
       "      <td>-0.017879</td>\n",
       "      <td>0.097783</td>\n",
       "      <td>-0.185513</td>\n",
       "      <td>-0.015655</td>\n",
       "      <td>-0.009120</td>\n",
       "      <td>-0.004648</td>\n",
       "      <td>0.004760</td>\n",
       "      <td>-0.023758</td>\n",
       "      <td>0.001288</td>\n",
       "      <td>0.025155</td>\n",
       "    </tr>\n",
       "    <tr>\n",
       "      <th>default</th>\n",
       "      <td>-0.017879</td>\n",
       "      <td>1.000000</td>\n",
       "      <td>-0.066745</td>\n",
       "      <td>-0.006025</td>\n",
       "      <td>0.077234</td>\n",
       "      <td>0.009424</td>\n",
       "      <td>-0.010021</td>\n",
       "      <td>0.016822</td>\n",
       "      <td>-0.029979</td>\n",
       "      <td>-0.018329</td>\n",
       "      <td>-0.022419</td>\n",
       "    </tr>\n",
       "    <tr>\n",
       "      <th>balance</th>\n",
       "      <td>0.097783</td>\n",
       "      <td>-0.066745</td>\n",
       "      <td>1.000000</td>\n",
       "      <td>-0.068768</td>\n",
       "      <td>-0.084350</td>\n",
       "      <td>0.004503</td>\n",
       "      <td>0.021560</td>\n",
       "      <td>-0.014578</td>\n",
       "      <td>0.003435</td>\n",
       "      <td>0.016674</td>\n",
       "      <td>0.052838</td>\n",
       "    </tr>\n",
       "    <tr>\n",
       "      <th>housing</th>\n",
       "      <td>-0.185513</td>\n",
       "      <td>-0.006025</td>\n",
       "      <td>-0.068768</td>\n",
       "      <td>1.000000</td>\n",
       "      <td>0.041323</td>\n",
       "      <td>-0.027982</td>\n",
       "      <td>0.005075</td>\n",
       "      <td>-0.023599</td>\n",
       "      <td>0.124178</td>\n",
       "      <td>0.037076</td>\n",
       "      <td>-0.139173</td>\n",
       "    </tr>\n",
       "    <tr>\n",
       "      <th>loan</th>\n",
       "      <td>-0.015655</td>\n",
       "      <td>0.077234</td>\n",
       "      <td>-0.084350</td>\n",
       "      <td>0.041323</td>\n",
       "      <td>1.000000</td>\n",
       "      <td>0.011370</td>\n",
       "      <td>-0.012412</td>\n",
       "      <td>0.009980</td>\n",
       "      <td>-0.022754</td>\n",
       "      <td>-0.011043</td>\n",
       "      <td>-0.068185</td>\n",
       "    </tr>\n",
       "    <tr>\n",
       "      <th>day</th>\n",
       "      <td>-0.009120</td>\n",
       "      <td>0.009424</td>\n",
       "      <td>0.004503</td>\n",
       "      <td>-0.027982</td>\n",
       "      <td>0.011370</td>\n",
       "      <td>1.000000</td>\n",
       "      <td>-0.030206</td>\n",
       "      <td>0.162490</td>\n",
       "      <td>-0.093044</td>\n",
       "      <td>-0.051710</td>\n",
       "      <td>-0.028348</td>\n",
       "    </tr>\n",
       "    <tr>\n",
       "      <th>duration</th>\n",
       "      <td>-0.004648</td>\n",
       "      <td>-0.010021</td>\n",
       "      <td>0.021560</td>\n",
       "      <td>0.005075</td>\n",
       "      <td>-0.012412</td>\n",
       "      <td>-0.030206</td>\n",
       "      <td>1.000000</td>\n",
       "      <td>-0.084570</td>\n",
       "      <td>-0.001565</td>\n",
       "      <td>0.001203</td>\n",
       "      <td>0.394521</td>\n",
       "    </tr>\n",
       "    <tr>\n",
       "      <th>campaign</th>\n",
       "      <td>0.004760</td>\n",
       "      <td>0.016822</td>\n",
       "      <td>-0.014578</td>\n",
       "      <td>-0.023599</td>\n",
       "      <td>0.009980</td>\n",
       "      <td>0.162490</td>\n",
       "      <td>-0.084570</td>\n",
       "      <td>1.000000</td>\n",
       "      <td>-0.088628</td>\n",
       "      <td>-0.032855</td>\n",
       "      <td>-0.073172</td>\n",
       "    </tr>\n",
       "    <tr>\n",
       "      <th>pdays</th>\n",
       "      <td>-0.023758</td>\n",
       "      <td>-0.029979</td>\n",
       "      <td>0.003435</td>\n",
       "      <td>0.124178</td>\n",
       "      <td>-0.022754</td>\n",
       "      <td>-0.093044</td>\n",
       "      <td>-0.001565</td>\n",
       "      <td>-0.088628</td>\n",
       "      <td>1.000000</td>\n",
       "      <td>0.454820</td>\n",
       "      <td>0.103621</td>\n",
       "    </tr>\n",
       "    <tr>\n",
       "      <th>previous</th>\n",
       "      <td>0.001288</td>\n",
       "      <td>-0.018329</td>\n",
       "      <td>0.016674</td>\n",
       "      <td>0.037076</td>\n",
       "      <td>-0.011043</td>\n",
       "      <td>-0.051710</td>\n",
       "      <td>0.001203</td>\n",
       "      <td>-0.032855</td>\n",
       "      <td>0.454820</td>\n",
       "      <td>1.000000</td>\n",
       "      <td>0.093236</td>\n",
       "    </tr>\n",
       "    <tr>\n",
       "      <th>Target</th>\n",
       "      <td>0.025155</td>\n",
       "      <td>-0.022419</td>\n",
       "      <td>0.052838</td>\n",
       "      <td>-0.139173</td>\n",
       "      <td>-0.068185</td>\n",
       "      <td>-0.028348</td>\n",
       "      <td>0.394521</td>\n",
       "      <td>-0.073172</td>\n",
       "      <td>0.103621</td>\n",
       "      <td>0.093236</td>\n",
       "      <td>1.000000</td>\n",
       "    </tr>\n",
       "  </tbody>\n",
       "</table>\n",
       "</div>"
      ],
      "text/plain": [
       "               age   default   balance   housing      loan       day  \\\n",
       "age       1.000000 -0.017879  0.097783 -0.185513 -0.015655 -0.009120   \n",
       "default  -0.017879  1.000000 -0.066745 -0.006025  0.077234  0.009424   \n",
       "balance   0.097783 -0.066745  1.000000 -0.068768 -0.084350  0.004503   \n",
       "housing  -0.185513 -0.006025 -0.068768  1.000000  0.041323 -0.027982   \n",
       "loan     -0.015655  0.077234 -0.084350  0.041323  1.000000  0.011370   \n",
       "day      -0.009120  0.009424  0.004503 -0.027982  0.011370  1.000000   \n",
       "duration -0.004648 -0.010021  0.021560  0.005075 -0.012412 -0.030206   \n",
       "campaign  0.004760  0.016822 -0.014578 -0.023599  0.009980  0.162490   \n",
       "pdays    -0.023758 -0.029979  0.003435  0.124178 -0.022754 -0.093044   \n",
       "previous  0.001288 -0.018329  0.016674  0.037076 -0.011043 -0.051710   \n",
       "Target    0.025155 -0.022419  0.052838 -0.139173 -0.068185 -0.028348   \n",
       "\n",
       "          duration  campaign     pdays  previous    Target  \n",
       "age      -0.004648  0.004760 -0.023758  0.001288  0.025155  \n",
       "default  -0.010021  0.016822 -0.029979 -0.018329 -0.022419  \n",
       "balance   0.021560 -0.014578  0.003435  0.016674  0.052838  \n",
       "housing   0.005075 -0.023599  0.124178  0.037076 -0.139173  \n",
       "loan     -0.012412  0.009980 -0.022754 -0.011043 -0.068185  \n",
       "day      -0.030206  0.162490 -0.093044 -0.051710 -0.028348  \n",
       "duration  1.000000 -0.084570 -0.001565  0.001203  0.394521  \n",
       "campaign -0.084570  1.000000 -0.088628 -0.032855 -0.073172  \n",
       "pdays    -0.001565 -0.088628  1.000000  0.454820  0.103621  \n",
       "previous  0.001203 -0.032855  0.454820  1.000000  0.093236  \n",
       "Target    0.394521 -0.073172  0.103621  0.093236  1.000000  "
      ]
     },
     "execution_count": 20,
     "metadata": {},
     "output_type": "execute_result"
    }
   ],
   "source": [
    "bank_df.corr()"
   ]
  },
  {
   "cell_type": "code",
   "execution_count": 21,
   "metadata": {},
   "outputs": [
    {
     "data": {
      "text/plain": [
       "age           int64\n",
       "job          object\n",
       "marital      object\n",
       "education    object\n",
       "default        bool\n",
       "balance       int64\n",
       "housing        bool\n",
       "loan           bool\n",
       "contact      object\n",
       "day           int64\n",
       "month        object\n",
       "duration      int64\n",
       "campaign      int64\n",
       "pdays         int64\n",
       "previous      int64\n",
       "poutcome     object\n",
       "Target         bool\n",
       "dtype: object"
      ]
     },
     "execution_count": 21,
     "metadata": {},
     "output_type": "execute_result"
    }
   ],
   "source": [
    "bank_df.dtypes"
   ]
  },
  {
   "cell_type": "markdown",
   "metadata": {},
   "source": [
    "### 4. Prepare the data to train a model – check if data types are appropriate, get rid of the missing values etc"
   ]
  },
  {
   "cell_type": "code",
   "execution_count": 22,
   "metadata": {},
   "outputs": [],
   "source": [
    "bank_df_conv = bank_df.copy()"
   ]
  },
  {
   "cell_type": "code",
   "execution_count": 23,
   "metadata": {},
   "outputs": [
    {
     "data": {
      "text/plain": [
       "age           int64\n",
       "job          object\n",
       "marital      object\n",
       "education    object\n",
       "default        bool\n",
       "balance       int64\n",
       "housing        bool\n",
       "loan           bool\n",
       "contact      object\n",
       "day           int64\n",
       "month        object\n",
       "duration      int64\n",
       "campaign      int64\n",
       "pdays         int64\n",
       "previous      int64\n",
       "poutcome     object\n",
       "Target         bool\n",
       "dtype: object"
      ]
     },
     "execution_count": 23,
     "metadata": {},
     "output_type": "execute_result"
    }
   ],
   "source": [
    "bank_df_conv.dtypes"
   ]
  },
  {
   "cell_type": "code",
   "execution_count": null,
   "metadata": {},
   "outputs": [
    {
     "data": {
      "text/html": [
       "<div>\n",
       "<style scoped>\n",
       "    .dataframe tbody tr th:only-of-type {\n",
       "        vertical-align: middle;\n",
       "    }\n",
       "\n",
       "    .dataframe tbody tr th {\n",
       "        vertical-align: top;\n",
       "    }\n",
       "\n",
       "    .dataframe thead th {\n",
       "        text-align: right;\n",
       "    }\n",
       "</style>\n",
       "<table border=\"1\" class=\"dataframe\">\n",
       "  <thead>\n",
       "    <tr style=\"text-align: right;\">\n",
       "      <th></th>\n",
       "      <th>age</th>\n",
       "      <th>job</th>\n",
       "      <th>marital</th>\n",
       "      <th>education</th>\n",
       "      <th>default</th>\n",
       "      <th>balance</th>\n",
       "      <th>housing</th>\n",
       "      <th>loan</th>\n",
       "      <th>contact</th>\n",
       "      <th>day</th>\n",
       "      <th>month</th>\n",
       "      <th>duration</th>\n",
       "      <th>campaign</th>\n",
       "      <th>pdays</th>\n",
       "      <th>previous</th>\n",
       "      <th>poutcome</th>\n",
       "      <th>Target</th>\n",
       "    </tr>\n",
       "  </thead>\n",
       "  <tbody>\n",
       "    <tr>\n",
       "      <th>0</th>\n",
       "      <td>58</td>\n",
       "      <td>management</td>\n",
       "      <td>married</td>\n",
       "      <td>tertiary</td>\n",
       "      <td>False</td>\n",
       "      <td>2143</td>\n",
       "      <td>True</td>\n",
       "      <td>False</td>\n",
       "      <td>unknown</td>\n",
       "      <td>5</td>\n",
       "      <td>may</td>\n",
       "      <td>261</td>\n",
       "      <td>1</td>\n",
       "      <td>-1</td>\n",
       "      <td>0</td>\n",
       "      <td>unknown</td>\n",
       "      <td>False</td>\n",
       "    </tr>\n",
       "    <tr>\n",
       "      <th>1</th>\n",
       "      <td>44</td>\n",
       "      <td>technician</td>\n",
       "      <td>single</td>\n",
       "      <td>secondary</td>\n",
       "      <td>False</td>\n",
       "      <td>29</td>\n",
       "      <td>True</td>\n",
       "      <td>False</td>\n",
       "      <td>unknown</td>\n",
       "      <td>5</td>\n",
       "      <td>may</td>\n",
       "      <td>151</td>\n",
       "      <td>1</td>\n",
       "      <td>-1</td>\n",
       "      <td>0</td>\n",
       "      <td>unknown</td>\n",
       "      <td>False</td>\n",
       "    </tr>\n",
       "    <tr>\n",
       "      <th>2</th>\n",
       "      <td>33</td>\n",
       "      <td>entrepreneur</td>\n",
       "      <td>married</td>\n",
       "      <td>secondary</td>\n",
       "      <td>False</td>\n",
       "      <td>2</td>\n",
       "      <td>True</td>\n",
       "      <td>True</td>\n",
       "      <td>unknown</td>\n",
       "      <td>5</td>\n",
       "      <td>may</td>\n",
       "      <td>76</td>\n",
       "      <td>1</td>\n",
       "      <td>-1</td>\n",
       "      <td>0</td>\n",
       "      <td>unknown</td>\n",
       "      <td>False</td>\n",
       "    </tr>\n",
       "    <tr>\n",
       "      <th>3</th>\n",
       "      <td>47</td>\n",
       "      <td>blue-collar</td>\n",
       "      <td>married</td>\n",
       "      <td>unknown</td>\n",
       "      <td>False</td>\n",
       "      <td>1506</td>\n",
       "      <td>True</td>\n",
       "      <td>False</td>\n",
       "      <td>unknown</td>\n",
       "      <td>5</td>\n",
       "      <td>may</td>\n",
       "      <td>92</td>\n",
       "      <td>1</td>\n",
       "      <td>-1</td>\n",
       "      <td>0</td>\n",
       "      <td>unknown</td>\n",
       "      <td>False</td>\n",
       "    </tr>\n",
       "    <tr>\n",
       "      <th>4</th>\n",
       "      <td>33</td>\n",
       "      <td>unknown</td>\n",
       "      <td>single</td>\n",
       "      <td>unknown</td>\n",
       "      <td>False</td>\n",
       "      <td>1</td>\n",
       "      <td>False</td>\n",
       "      <td>False</td>\n",
       "      <td>unknown</td>\n",
       "      <td>5</td>\n",
       "      <td>may</td>\n",
       "      <td>198</td>\n",
       "      <td>1</td>\n",
       "      <td>-1</td>\n",
       "      <td>0</td>\n",
       "      <td>unknown</td>\n",
       "      <td>False</td>\n",
       "    </tr>\n",
       "    <tr>\n",
       "      <th>5</th>\n",
       "      <td>35</td>\n",
       "      <td>management</td>\n",
       "      <td>married</td>\n",
       "      <td>tertiary</td>\n",
       "      <td>False</td>\n",
       "      <td>231</td>\n",
       "      <td>True</td>\n",
       "      <td>False</td>\n",
       "      <td>unknown</td>\n",
       "      <td>5</td>\n",
       "      <td>may</td>\n",
       "      <td>139</td>\n",
       "      <td>1</td>\n",
       "      <td>-1</td>\n",
       "      <td>0</td>\n",
       "      <td>unknown</td>\n",
       "      <td>False</td>\n",
       "    </tr>\n",
       "    <tr>\n",
       "      <th>6</th>\n",
       "      <td>28</td>\n",
       "      <td>management</td>\n",
       "      <td>single</td>\n",
       "      <td>tertiary</td>\n",
       "      <td>False</td>\n",
       "      <td>447</td>\n",
       "      <td>True</td>\n",
       "      <td>True</td>\n",
       "      <td>unknown</td>\n",
       "      <td>5</td>\n",
       "      <td>may</td>\n",
       "      <td>217</td>\n",
       "      <td>1</td>\n",
       "      <td>-1</td>\n",
       "      <td>0</td>\n",
       "      <td>unknown</td>\n",
       "      <td>False</td>\n",
       "    </tr>\n",
       "    <tr>\n",
       "      <th>7</th>\n",
       "      <td>42</td>\n",
       "      <td>entrepreneur</td>\n",
       "      <td>divorced</td>\n",
       "      <td>tertiary</td>\n",
       "      <td>True</td>\n",
       "      <td>2</td>\n",
       "      <td>True</td>\n",
       "      <td>False</td>\n",
       "      <td>unknown</td>\n",
       "      <td>5</td>\n",
       "      <td>may</td>\n",
       "      <td>380</td>\n",
       "      <td>1</td>\n",
       "      <td>-1</td>\n",
       "      <td>0</td>\n",
       "      <td>unknown</td>\n",
       "      <td>False</td>\n",
       "    </tr>\n",
       "    <tr>\n",
       "      <th>8</th>\n",
       "      <td>58</td>\n",
       "      <td>retired</td>\n",
       "      <td>married</td>\n",
       "      <td>primary</td>\n",
       "      <td>False</td>\n",
       "      <td>121</td>\n",
       "      <td>True</td>\n",
       "      <td>False</td>\n",
       "      <td>unknown</td>\n",
       "      <td>5</td>\n",
       "      <td>may</td>\n",
       "      <td>50</td>\n",
       "      <td>1</td>\n",
       "      <td>-1</td>\n",
       "      <td>0</td>\n",
       "      <td>unknown</td>\n",
       "      <td>False</td>\n",
       "    </tr>\n",
       "    <tr>\n",
       "      <th>9</th>\n",
       "      <td>43</td>\n",
       "      <td>technician</td>\n",
       "      <td>single</td>\n",
       "      <td>secondary</td>\n",
       "      <td>False</td>\n",
       "      <td>593</td>\n",
       "      <td>True</td>\n",
       "      <td>False</td>\n",
       "      <td>unknown</td>\n",
       "      <td>5</td>\n",
       "      <td>may</td>\n",
       "      <td>55</td>\n",
       "      <td>1</td>\n",
       "      <td>-1</td>\n",
       "      <td>0</td>\n",
       "      <td>unknown</td>\n",
       "      <td>False</td>\n",
       "    </tr>\n",
       "  </tbody>\n",
       "</table>\n",
       "</div>"
      ],
      "text/plain": [
       "   age           job   marital  education  default  balance  housing   loan  \\\n",
       "0   58    management   married   tertiary    False     2143     True  False   \n",
       "1   44    technician    single  secondary    False       29     True  False   \n",
       "2   33  entrepreneur   married  secondary    False        2     True   True   \n",
       "3   47   blue-collar   married    unknown    False     1506     True  False   \n",
       "4   33       unknown    single    unknown    False        1    False  False   \n",
       "5   35    management   married   tertiary    False      231     True  False   \n",
       "6   28    management    single   tertiary    False      447     True   True   \n",
       "7   42  entrepreneur  divorced   tertiary     True        2     True  False   \n",
       "8   58       retired   married    primary    False      121     True  False   \n",
       "9   43    technician    single  secondary    False      593     True  False   \n",
       "\n",
       "   contact  day month  duration  campaign  pdays  previous poutcome  Target  \n",
       "0  unknown    5   may       261         1     -1         0  unknown   False  \n",
       "1  unknown    5   may       151         1     -1         0  unknown   False  \n",
       "2  unknown    5   may        76         1     -1         0  unknown   False  \n",
       "3  unknown    5   may        92         1     -1         0  unknown   False  \n",
       "4  unknown    5   may       198         1     -1         0  unknown   False  \n",
       "5  unknown    5   may       139         1     -1         0  unknown   False  \n",
       "6  unknown    5   may       217         1     -1         0  unknown   False  \n",
       "7  unknown    5   may       380         1     -1         0  unknown   False  \n",
       "8  unknown    5   may        50         1     -1         0  unknown   False  \n",
       "9  unknown    5   may        55         1     -1         0  unknown   False  "
      ]
     },
     "execution_count": 24,
     "metadata": {},
     "output_type": "execute_result"
    }
   ],
   "source": [
    "bank_df_conv.head(10)"
   ]
  },
  {
   "cell_type": "code",
   "execution_count": null,
   "metadata": {
    "scrolled": true
   },
   "outputs": [
    {
     "data": {
      "text/html": [
       "<div>\n",
       "<style scoped>\n",
       "    .dataframe tbody tr th:only-of-type {\n",
       "        vertical-align: middle;\n",
       "    }\n",
       "\n",
       "    .dataframe tbody tr th {\n",
       "        vertical-align: top;\n",
       "    }\n",
       "\n",
       "    .dataframe thead th {\n",
       "        text-align: right;\n",
       "    }\n",
       "</style>\n",
       "<table border=\"1\" class=\"dataframe\">\n",
       "  <thead>\n",
       "    <tr style=\"text-align: right;\">\n",
       "      <th></th>\n",
       "      <th>age</th>\n",
       "      <th>default</th>\n",
       "      <th>balance</th>\n",
       "      <th>housing</th>\n",
       "      <th>loan</th>\n",
       "      <th>duration</th>\n",
       "      <th>campaign</th>\n",
       "      <th>pdays</th>\n",
       "      <th>previous</th>\n",
       "      <th>Target</th>\n",
       "      <th>...</th>\n",
       "      <th>month_dec</th>\n",
       "      <th>month_feb</th>\n",
       "      <th>month_jan</th>\n",
       "      <th>month_jul</th>\n",
       "      <th>month_jun</th>\n",
       "      <th>month_mar</th>\n",
       "      <th>month_may</th>\n",
       "      <th>month_nov</th>\n",
       "      <th>month_oct</th>\n",
       "      <th>month_sep</th>\n",
       "    </tr>\n",
       "  </thead>\n",
       "  <tbody>\n",
       "    <tr>\n",
       "      <th>0</th>\n",
       "      <td>58</td>\n",
       "      <td>False</td>\n",
       "      <td>2143</td>\n",
       "      <td>True</td>\n",
       "      <td>False</td>\n",
       "      <td>261</td>\n",
       "      <td>1</td>\n",
       "      <td>-1</td>\n",
       "      <td>0</td>\n",
       "      <td>False</td>\n",
       "      <td>...</td>\n",
       "      <td>0</td>\n",
       "      <td>0</td>\n",
       "      <td>0</td>\n",
       "      <td>0</td>\n",
       "      <td>0</td>\n",
       "      <td>0</td>\n",
       "      <td>1</td>\n",
       "      <td>0</td>\n",
       "      <td>0</td>\n",
       "      <td>0</td>\n",
       "    </tr>\n",
       "    <tr>\n",
       "      <th>1</th>\n",
       "      <td>44</td>\n",
       "      <td>False</td>\n",
       "      <td>29</td>\n",
       "      <td>True</td>\n",
       "      <td>False</td>\n",
       "      <td>151</td>\n",
       "      <td>1</td>\n",
       "      <td>-1</td>\n",
       "      <td>0</td>\n",
       "      <td>False</td>\n",
       "      <td>...</td>\n",
       "      <td>0</td>\n",
       "      <td>0</td>\n",
       "      <td>0</td>\n",
       "      <td>0</td>\n",
       "      <td>0</td>\n",
       "      <td>0</td>\n",
       "      <td>1</td>\n",
       "      <td>0</td>\n",
       "      <td>0</td>\n",
       "      <td>0</td>\n",
       "    </tr>\n",
       "    <tr>\n",
       "      <th>2</th>\n",
       "      <td>33</td>\n",
       "      <td>False</td>\n",
       "      <td>2</td>\n",
       "      <td>True</td>\n",
       "      <td>True</td>\n",
       "      <td>76</td>\n",
       "      <td>1</td>\n",
       "      <td>-1</td>\n",
       "      <td>0</td>\n",
       "      <td>False</td>\n",
       "      <td>...</td>\n",
       "      <td>0</td>\n",
       "      <td>0</td>\n",
       "      <td>0</td>\n",
       "      <td>0</td>\n",
       "      <td>0</td>\n",
       "      <td>0</td>\n",
       "      <td>1</td>\n",
       "      <td>0</td>\n",
       "      <td>0</td>\n",
       "      <td>0</td>\n",
       "    </tr>\n",
       "    <tr>\n",
       "      <th>3</th>\n",
       "      <td>47</td>\n",
       "      <td>False</td>\n",
       "      <td>1506</td>\n",
       "      <td>True</td>\n",
       "      <td>False</td>\n",
       "      <td>92</td>\n",
       "      <td>1</td>\n",
       "      <td>-1</td>\n",
       "      <td>0</td>\n",
       "      <td>False</td>\n",
       "      <td>...</td>\n",
       "      <td>0</td>\n",
       "      <td>0</td>\n",
       "      <td>0</td>\n",
       "      <td>0</td>\n",
       "      <td>0</td>\n",
       "      <td>0</td>\n",
       "      <td>1</td>\n",
       "      <td>0</td>\n",
       "      <td>0</td>\n",
       "      <td>0</td>\n",
       "    </tr>\n",
       "    <tr>\n",
       "      <th>4</th>\n",
       "      <td>33</td>\n",
       "      <td>False</td>\n",
       "      <td>1</td>\n",
       "      <td>False</td>\n",
       "      <td>False</td>\n",
       "      <td>198</td>\n",
       "      <td>1</td>\n",
       "      <td>-1</td>\n",
       "      <td>0</td>\n",
       "      <td>False</td>\n",
       "      <td>...</td>\n",
       "      <td>0</td>\n",
       "      <td>0</td>\n",
       "      <td>0</td>\n",
       "      <td>0</td>\n",
       "      <td>0</td>\n",
       "      <td>0</td>\n",
       "      <td>1</td>\n",
       "      <td>0</td>\n",
       "      <td>0</td>\n",
       "      <td>0</td>\n",
       "    </tr>\n",
       "    <tr>\n",
       "      <th>5</th>\n",
       "      <td>35</td>\n",
       "      <td>False</td>\n",
       "      <td>231</td>\n",
       "      <td>True</td>\n",
       "      <td>False</td>\n",
       "      <td>139</td>\n",
       "      <td>1</td>\n",
       "      <td>-1</td>\n",
       "      <td>0</td>\n",
       "      <td>False</td>\n",
       "      <td>...</td>\n",
       "      <td>0</td>\n",
       "      <td>0</td>\n",
       "      <td>0</td>\n",
       "      <td>0</td>\n",
       "      <td>0</td>\n",
       "      <td>0</td>\n",
       "      <td>1</td>\n",
       "      <td>0</td>\n",
       "      <td>0</td>\n",
       "      <td>0</td>\n",
       "    </tr>\n",
       "    <tr>\n",
       "      <th>6</th>\n",
       "      <td>28</td>\n",
       "      <td>False</td>\n",
       "      <td>447</td>\n",
       "      <td>True</td>\n",
       "      <td>True</td>\n",
       "      <td>217</td>\n",
       "      <td>1</td>\n",
       "      <td>-1</td>\n",
       "      <td>0</td>\n",
       "      <td>False</td>\n",
       "      <td>...</td>\n",
       "      <td>0</td>\n",
       "      <td>0</td>\n",
       "      <td>0</td>\n",
       "      <td>0</td>\n",
       "      <td>0</td>\n",
       "      <td>0</td>\n",
       "      <td>1</td>\n",
       "      <td>0</td>\n",
       "      <td>0</td>\n",
       "      <td>0</td>\n",
       "    </tr>\n",
       "    <tr>\n",
       "      <th>7</th>\n",
       "      <td>42</td>\n",
       "      <td>True</td>\n",
       "      <td>2</td>\n",
       "      <td>True</td>\n",
       "      <td>False</td>\n",
       "      <td>380</td>\n",
       "      <td>1</td>\n",
       "      <td>-1</td>\n",
       "      <td>0</td>\n",
       "      <td>False</td>\n",
       "      <td>...</td>\n",
       "      <td>0</td>\n",
       "      <td>0</td>\n",
       "      <td>0</td>\n",
       "      <td>0</td>\n",
       "      <td>0</td>\n",
       "      <td>0</td>\n",
       "      <td>1</td>\n",
       "      <td>0</td>\n",
       "      <td>0</td>\n",
       "      <td>0</td>\n",
       "    </tr>\n",
       "    <tr>\n",
       "      <th>8</th>\n",
       "      <td>58</td>\n",
       "      <td>False</td>\n",
       "      <td>121</td>\n",
       "      <td>True</td>\n",
       "      <td>False</td>\n",
       "      <td>50</td>\n",
       "      <td>1</td>\n",
       "      <td>-1</td>\n",
       "      <td>0</td>\n",
       "      <td>False</td>\n",
       "      <td>...</td>\n",
       "      <td>0</td>\n",
       "      <td>0</td>\n",
       "      <td>0</td>\n",
       "      <td>0</td>\n",
       "      <td>0</td>\n",
       "      <td>0</td>\n",
       "      <td>1</td>\n",
       "      <td>0</td>\n",
       "      <td>0</td>\n",
       "      <td>0</td>\n",
       "    </tr>\n",
       "    <tr>\n",
       "      <th>9</th>\n",
       "      <td>43</td>\n",
       "      <td>False</td>\n",
       "      <td>593</td>\n",
       "      <td>True</td>\n",
       "      <td>False</td>\n",
       "      <td>55</td>\n",
       "      <td>1</td>\n",
       "      <td>-1</td>\n",
       "      <td>0</td>\n",
       "      <td>False</td>\n",
       "      <td>...</td>\n",
       "      <td>0</td>\n",
       "      <td>0</td>\n",
       "      <td>0</td>\n",
       "      <td>0</td>\n",
       "      <td>0</td>\n",
       "      <td>0</td>\n",
       "      <td>1</td>\n",
       "      <td>0</td>\n",
       "      <td>0</td>\n",
       "      <td>0</td>\n",
       "    </tr>\n",
       "  </tbody>\n",
       "</table>\n",
       "<p>10 rows × 30 columns</p>\n",
       "</div>"
      ],
      "text/plain": [
       "   age  default  balance  housing   loan  duration  campaign  pdays  previous  \\\n",
       "0   58    False     2143     True  False       261         1     -1         0   \n",
       "1   44    False       29     True  False       151         1     -1         0   \n",
       "2   33    False        2     True   True        76         1     -1         0   \n",
       "3   47    False     1506     True  False        92         1     -1         0   \n",
       "4   33    False        1    False  False       198         1     -1         0   \n",
       "5   35    False      231     True  False       139         1     -1         0   \n",
       "6   28    False      447     True   True       217         1     -1         0   \n",
       "7   42     True        2     True  False       380         1     -1         0   \n",
       "8   58    False      121     True  False        50         1     -1         0   \n",
       "9   43    False      593     True  False        55         1     -1         0   \n",
       "\n",
       "   Target  ...  month_dec  month_feb  month_jan  month_jul  month_jun  \\\n",
       "0   False  ...          0          0          0          0          0   \n",
       "1   False  ...          0          0          0          0          0   \n",
       "2   False  ...          0          0          0          0          0   \n",
       "3   False  ...          0          0          0          0          0   \n",
       "4   False  ...          0          0          0          0          0   \n",
       "5   False  ...          0          0          0          0          0   \n",
       "6   False  ...          0          0          0          0          0   \n",
       "7   False  ...          0          0          0          0          0   \n",
       "8   False  ...          0          0          0          0          0   \n",
       "9   False  ...          0          0          0          0          0   \n",
       "\n",
       "   month_mar  month_may  month_nov  month_oct  month_sep  \n",
       "0          0          1          0          0          0  \n",
       "1          0          1          0          0          0  \n",
       "2          0          1          0          0          0  \n",
       "3          0          1          0          0          0  \n",
       "4          0          1          0          0          0  \n",
       "5          0          1          0          0          0  \n",
       "6          0          1          0          0          0  \n",
       "7          0          1          0          0          0  \n",
       "8          0          1          0          0          0  \n",
       "9          0          1          0          0          0  \n",
       "\n",
       "[10 rows x 30 columns]"
      ]
     },
     "execution_count": 25,
     "metadata": {},
     "output_type": "execute_result"
    }
   ],
   "source": [
    "#one hot encode job, marital, education, poutcome, education, contact --\n",
    "#bank_df_onehot = pd.get_dummies(bank_df_conv, columns=['job', 'marital', 'education', 'contact', 'day', 'month', 'poutcome'], drop_first=False)\n",
    "\n",
    "#drop Day & Month\n",
    "bank_df_conv_drop = bank_df_conv.drop(['day'], axis = 1) \n",
    "bank_df_conv_drop = bank_df_conv_drop.drop(['job'], axis = 1) \n",
    "bank_df_conv_drop = bank_df_conv_drop.drop(['marital'], axis = 1) \n",
    "bank_df_conv_drop = bank_df_conv_drop.drop(['contact'], axis = 1) \n",
    "\n",
    "#bank_df_conv_drop = bank_df_conv_drop.drop(['month'], axis = 1) \n",
    "bank_df_onehot = pd.get_dummies(bank_df_conv_drop, columns=['education', 'poutcome', 'month'], drop_first=False)\n",
    "\n",
    "#for col in ['job', 'marital', 'education', 'contact', 'day', 'month', 'poutcome']:\n",
    "#    bank_df[col] = bank_df[col].astype('category')\n",
    "bank_df_onehot.head(10)"
   ]
  },
  {
   "cell_type": "code",
   "execution_count": null,
   "metadata": {},
   "outputs": [
    {
     "data": {
      "text/plain": [
       "age                    int64\n",
       "default                 bool\n",
       "balance                int64\n",
       "housing                 bool\n",
       "loan                    bool\n",
       "duration               int64\n",
       "campaign               int64\n",
       "pdays                  int64\n",
       "previous               int64\n",
       "Target                  bool\n",
       "education_primary      uint8\n",
       "education_secondary    uint8\n",
       "education_tertiary     uint8\n",
       "education_unknown      uint8\n",
       "poutcome_failure       uint8\n",
       "poutcome_other         uint8\n",
       "poutcome_success       uint8\n",
       "poutcome_unknown       uint8\n",
       "month_apr              uint8\n",
       "month_aug              uint8\n",
       "month_dec              uint8\n",
       "month_feb              uint8\n",
       "month_jan              uint8\n",
       "month_jul              uint8\n",
       "month_jun              uint8\n",
       "month_mar              uint8\n",
       "month_may              uint8\n",
       "month_nov              uint8\n",
       "month_oct              uint8\n",
       "month_sep              uint8\n",
       "dtype: object"
      ]
     },
     "execution_count": 26,
     "metadata": {},
     "output_type": "execute_result"
    }
   ],
   "source": [
    "bank_df_onehot.dtypes"
   ]
  },
  {
   "cell_type": "code",
   "execution_count": null,
   "metadata": {},
   "outputs": [],
   "source": [
    "#pair plot to check data spread -- takes too long\n",
    "#sns.pairplot(bank_df_onehot, hue=\"Target\")\n",
    "#sns.pairplot(bank_df_conv, hue=\"Target\")"
   ]
  },
  {
   "cell_type": "markdown",
   "metadata": {},
   "source": [
    "### 5. Train a few standard classification algorithms, note and comment on their performances along different metrics.\n"
   ]
  },
  {
   "cell_type": "markdown",
   "metadata": {},
   "source": [
    "## LR"
   ]
  },
  {
   "cell_type": "code",
   "execution_count": null,
   "metadata": {},
   "outputs": [],
   "source": [
    "## Define X and y variables\n",
    "X = bank_df_onehot.drop('Target', axis=1)\n",
    "y = bank_df_onehot[['Target']]\n",
    "y=y.astype('int')\n",
    "\n",
    "##Split into training and test set\n",
    "from sklearn.model_selection import train_test_split\n",
    "\n",
    "X_train, X_test, y_train, y_test = train_test_split(X, y, test_size=0.30, random_state=1)"
   ]
  },
  {
   "cell_type": "code",
   "execution_count": null,
   "metadata": {},
   "outputs": [
    {
     "name": "stderr",
     "output_type": "stream",
     "text": [
      "C:\\ProgramData\\Anaconda3\\lib\\site-packages\\sklearn\\linear_model\\logistic.py:433: FutureWarning: Default solver will be changed to 'lbfgs' in 0.22. Specify a solver to silence this warning.\n",
      "  FutureWarning)\n"
     ]
    },
    {
     "data": {
      "text/plain": [
       "LogisticRegression(C=1.0, class_weight='balanced', dual=False,\n",
       "          fit_intercept=True, intercept_scaling=1, max_iter=100,\n",
       "          multi_class='warn', n_jobs=None, penalty='l2', random_state=None,\n",
       "          solver='warn', tol=0.0001, verbose=0, warm_start=False)"
      ]
     },
     "execution_count": 29,
     "metadata": {},
     "output_type": "execute_result"
    }
   ],
   "source": [
    "from sklearn import metrics\n",
    "from sklearn.linear_model import LogisticRegression\n",
    "\n",
    "logreg = LogisticRegression(class_weight='balanced')\n",
    "logreg.fit(X_train, y_train.values.ravel())"
   ]
  },
  {
   "cell_type": "code",
   "execution_count": null,
   "metadata": {},
   "outputs": [
    {
     "name": "stdout",
     "output_type": "stream",
     "text": [
      "Train set confusion matrix = \n",
      " [[23577  4332]\n",
      " [  763  2975]]\n"
     ]
    }
   ],
   "source": [
    "#Predict for train set\n",
    "pred_train = logreg.predict(X_train)\n",
    "\n",
    "from sklearn.metrics import classification_report,confusion_matrix\n",
    "mat_train = confusion_matrix(y_train,pred_train)\n",
    "\n",
    "print(\"Train set confusion matrix = \\n\",mat_train)"
   ]
  },
  {
   "cell_type": "code",
   "execution_count": null,
   "metadata": {},
   "outputs": [
    {
     "data": {
      "text/plain": [
       "0.8390052769614813"
      ]
     },
     "execution_count": 31,
     "metadata": {},
     "output_type": "execute_result"
    }
   ],
   "source": [
    "logreg.score(X_train,y_train)"
   ]
  },
  {
   "cell_type": "code",
   "execution_count": null,
   "metadata": {},
   "outputs": [
    {
     "name": "stdout",
     "output_type": "stream",
     "text": [
      "Test set confusion matrix = \n",
      " [[10108  1905]\n",
      " [  312  1239]]\n"
     ]
    }
   ],
   "source": [
    "#Predict for test set\n",
    "pred_test = logreg.predict(X_test)\n",
    "\n",
    "mat_test = confusion_matrix(y_test,pred_test)\n",
    "print(\"Test set confusion matrix = \\n\",mat_test)"
   ]
  },
  {
   "cell_type": "code",
   "execution_count": null,
   "metadata": {},
   "outputs": [
    {
     "data": {
      "text/plain": [
       "0.8365526393394279"
      ]
     },
     "execution_count": 33,
     "metadata": {},
     "output_type": "execute_result"
    }
   ],
   "source": [
    "logreg.score(X_test,y_test)"
   ]
  },
  {
   "cell_type": "code",
   "execution_count": null,
   "metadata": {},
   "outputs": [
    {
     "name": "stdout",
     "output_type": "stream",
     "text": [
      "Logistic Regression Metrics = \n",
      "               precision    recall  f1-score   support\n",
      "\n",
      "           0       0.97      0.84      0.90     12013\n",
      "           1       0.39      0.80      0.53      1551\n",
      "\n",
      "   micro avg       0.84      0.84      0.84     13564\n",
      "   macro avg       0.68      0.82      0.71     13564\n",
      "weighted avg       0.90      0.84      0.86     13564\n",
      "\n"
     ]
    }
   ],
   "source": [
    "print(\"Logistic Regression Metrics = \\n\", metrics.classification_report(y_test, pred_test))"
   ]
  },
  {
   "cell_type": "markdown",
   "metadata": {},
   "source": [
    "## KNN"
   ]
  },
  {
   "cell_type": "code",
   "execution_count": null,
   "metadata": {},
   "outputs": [],
   "source": [
    "from sklearn.neighbors import KNeighborsClassifier\n",
    "NNH = KNeighborsClassifier(n_neighbors= 5, weights = 'distance')\n",
    "# Call Nearest Neighbour algorithm\n",
    "\n",
    "NNH.fit(X_train, y_train.values.ravel())\n",
    "pred_train = NNH.predict(X_train)\n",
    "mat_train = confusion_matrix(y_train,pred_train)"
   ]
  },
  {
   "cell_type": "code",
   "execution_count": null,
   "metadata": {},
   "outputs": [
    {
     "data": {
      "text/plain": [
       "1.0"
      ]
     },
     "execution_count": 36,
     "metadata": {},
     "output_type": "execute_result"
    }
   ],
   "source": [
    "NNH.score(X_train, y_train)"
   ]
  },
  {
   "cell_type": "code",
   "execution_count": null,
   "metadata": {},
   "outputs": [],
   "source": [
    "# For every test data point, predict it's label based on 5 nearest neighbours in this model. The majority class will \n",
    "# be assigned to the test data point\n",
    "\n",
    "pred_test = NNH.predict(X_test)"
   ]
  },
  {
   "cell_type": "code",
   "execution_count": null,
   "metadata": {},
   "outputs": [
    {
     "data": {
      "text/plain": [
       "0.8810085520495429"
      ]
     },
     "execution_count": 38,
     "metadata": {},
     "output_type": "execute_result"
    }
   ],
   "source": [
    "NNH.score(X_test, y_test)"
   ]
  },
  {
   "cell_type": "code",
   "execution_count": null,
   "metadata": {},
   "outputs": [
    {
     "name": "stdout",
     "output_type": "stream",
     "text": [
      "Train set confusion matrix = \n",
      " [[27909     0]\n",
      " [    0  3738]]\n"
     ]
    }
   ],
   "source": [
    "mat_train = confusion_matrix(y_train,pred_train)\n",
    "print(\"Train set confusion matrix = \\n\",mat_train)"
   ]
  },
  {
   "cell_type": "code",
   "execution_count": null,
   "metadata": {},
   "outputs": [
    {
     "name": "stdout",
     "output_type": "stream",
     "text": [
      "Test set confusion matrix = \n",
      " [[11506   507]\n",
      " [ 1107   444]]\n"
     ]
    }
   ],
   "source": [
    "mat_test = confusion_matrix(y_test,pred_test)\n",
    "print(\"Test set confusion matrix = \\n\",mat_test)"
   ]
  },
  {
   "cell_type": "code",
   "execution_count": null,
   "metadata": {},
   "outputs": [
    {
     "name": "stdout",
     "output_type": "stream",
     "text": [
      "KNN Metrics = \n",
      "               precision    recall  f1-score   support\n",
      "\n",
      "           0       0.91      0.96      0.93     12013\n",
      "           1       0.47      0.29      0.35      1551\n",
      "\n",
      "   micro avg       0.88      0.88      0.88     13564\n",
      "   macro avg       0.69      0.62      0.64     13564\n",
      "weighted avg       0.86      0.88      0.87     13564\n",
      "\n"
     ]
    }
   ],
   "source": [
    "print(\"KNN Metrics = \\n\", metrics.classification_report(y_test, pred_test))"
   ]
  },
  {
   "cell_type": "markdown",
   "metadata": {},
   "source": [
    "## Naive bayes"
   ]
  },
  {
   "cell_type": "code",
   "execution_count": null,
   "metadata": {},
   "outputs": [],
   "source": [
    "from sklearn.naive_bayes import GaussianNB\n",
    "clf = GaussianNB()\n",
    "clf.fit(X_train,y_train.values.ravel())\n",
    "pred_train = clf.predict(X_train)"
   ]
  },
  {
   "cell_type": "code",
   "execution_count": null,
   "metadata": {},
   "outputs": [
    {
     "data": {
      "text/plain": [
       "0.8658324643726104"
      ]
     },
     "execution_count": 43,
     "metadata": {},
     "output_type": "execute_result"
    }
   ],
   "source": [
    "clf.score(X_train, y_train)"
   ]
  },
  {
   "cell_type": "code",
   "execution_count": null,
   "metadata": {},
   "outputs": [
    {
     "data": {
      "text/plain": [
       "0.8650103214391035"
      ]
     },
     "execution_count": 44,
     "metadata": {},
     "output_type": "execute_result"
    }
   ],
   "source": [
    "pred_test = clf.predict(X_test)\n",
    "clf.score(X_test, y_test)"
   ]
  },
  {
   "cell_type": "code",
   "execution_count": null,
   "metadata": {},
   "outputs": [
    {
     "name": "stdout",
     "output_type": "stream",
     "text": [
      "Train set confusion matrix = \n",
      " [[25631  2278]\n",
      " [ 1968  1770]]\n"
     ]
    }
   ],
   "source": [
    "mat_train = confusion_matrix(y_train,pred_train)\n",
    "print(\"Train set confusion matrix = \\n\",mat_train)"
   ]
  },
  {
   "cell_type": "code",
   "execution_count": null,
   "metadata": {},
   "outputs": [
    {
     "name": "stdout",
     "output_type": "stream",
     "text": [
      "Test set confusion matrix = \n",
      " [[10993  1020]\n",
      " [  811   740]]\n"
     ]
    }
   ],
   "source": [
    "mat_test = confusion_matrix(y_test,pred_test)\n",
    "print(\"Test set confusion matrix = \\n\",mat_test)"
   ]
  },
  {
   "cell_type": "code",
   "execution_count": null,
   "metadata": {},
   "outputs": [
    {
     "name": "stdout",
     "output_type": "stream",
     "text": [
      "NAIVE BAYES Metrics = \n",
      "               precision    recall  f1-score   support\n",
      "\n",
      "           0       0.93      0.92      0.92     12013\n",
      "           1       0.42      0.48      0.45      1551\n",
      "\n",
      "   micro avg       0.87      0.87      0.87     13564\n",
      "   macro avg       0.68      0.70      0.69     13564\n",
      "weighted avg       0.87      0.87      0.87     13564\n",
      "\n"
     ]
    }
   ],
   "source": [
    "print(\"NAIVE BAYES Metrics = \\n\", metrics.classification_report(y_test, pred_test))"
   ]
  },
  {
   "cell_type": "markdown",
   "metadata": {},
   "source": [
    "## SVM"
   ]
  },
  {
   "cell_type": "code",
   "execution_count": null,
   "metadata": {},
   "outputs": [],
   "source": [
    "from sklearn import svm\n",
    "clf = svm.SVC(gamma=0.025, C=3)\n",
    "clf.fit(X_train,y_train.values.ravel())\n",
    "pred_train = clf.predict(X_train)"
   ]
  },
  {
   "cell_type": "code",
   "execution_count": null,
   "metadata": {},
   "outputs": [],
   "source": [
    "clf.score(X_train, y_train)"
   ]
  },
  {
   "cell_type": "code",
   "execution_count": null,
   "metadata": {},
   "outputs": [],
   "source": [
    "pred_test = clf.predict(X_test)\n",
    "clf.score(X_test, y_test)"
   ]
  },
  {
   "cell_type": "code",
   "execution_count": null,
   "metadata": {},
   "outputs": [],
   "source": [
    "mat_train = confusion_matrix(y_train,pred_train)\n",
    "print(\"Train set confusion matrix = \\n\",mat_train)"
   ]
  },
  {
   "cell_type": "code",
   "execution_count": null,
   "metadata": {},
   "outputs": [],
   "source": [
    "mat_test = confusion_matrix(y_test,pred_test)\n",
    "print(\"Test set confusion matrix = \\n\",mat_test)"
   ]
  },
  {
   "cell_type": "code",
   "execution_count": null,
   "metadata": {},
   "outputs": [],
   "source": [
    "print(\"SVM Metrics = \\n\", metrics.classification_report(y_test, pred_test))"
   ]
  },
  {
   "cell_type": "markdown",
   "metadata": {},
   "source": [
    "## Summary <TODO>\n",
    "\n",
    "Why am i getting such high accuracies? "
   ]
  },
  {
   "cell_type": "markdown",
   "metadata": {},
   "source": [
    "### 6. Build the ensemble models and compare the results with the base models. Note: Random forest can be used only with Decision trees."
   ]
  },
  {
   "cell_type": "markdown",
   "metadata": {},
   "source": [
    "## Decision treeee"
   ]
  },
  {
   "cell_type": "code",
   "execution_count": null,
   "metadata": {
    "scrolled": true
   },
   "outputs": [],
   "source": [
    "from sklearn.tree import DecisionTreeClassifier\n",
    "dt_model = DecisionTreeClassifier(criterion = 'entropy' )\n",
    "dt_model.fit(X_train, y_train)"
   ]
  },
  {
   "cell_type": "code",
   "execution_count": null,
   "metadata": {
    "scrolled": true
   },
   "outputs": [],
   "source": [
    "dt_model.score(X_test , y_test)"
   ]
  },
  {
   "cell_type": "code",
   "execution_count": null,
   "metadata": {
    "scrolled": false
   },
   "outputs": [],
   "source": [
    "test_pred = dt_model.predict(X_test)\n",
    "pd.DataFrame(dt_model.feature_importances_, columns = [\"Imp\"], index = X_train.columns).to_csv ('vgk.csv')\n",
    "print (pd.DataFrame(dt_model.feature_importances_, columns = [\"Imp\"], index = X_train.columns))"
   ]
  },
  {
   "cell_type": "markdown",
   "metadata": {},
   "source": [
    "## Random Forest"
   ]
  },
  {
   "cell_type": "code",
   "execution_count": null,
   "metadata": {},
   "outputs": [],
   "source": [
    "from sklearn.ensemble import RandomForestClassifier\n",
    "rfcl = RandomForestClassifier(criterion = 'entropy', class_weight={0:.883,1:.117}, max_depth = 5, min_samples_leaf=5)\n",
    "rfcl = rfcl.fit(X_train, y_train.values.ravel())\n",
    "test_pred = rfcl.predict(X_test)\n",
    "rfcl.score(X_test , y_test)"
   ]
  },
  {
   "cell_type": "markdown",
   "metadata": {},
   "source": [
    "##### Additional notes -- Decision tree, Gradient boost, Stacking, XGBoost, ADA Boost, Bagging etc.."
   ]
  },
  {
   "cell_type": "markdown",
   "metadata": {},
   "source": [
    "### Adaboost"
   ]
  },
  {
   "cell_type": "code",
   "execution_count": null,
   "metadata": {},
   "outputs": [],
   "source": [
    "from sklearn.ensemble import AdaBoostClassifier\n",
    "#abcl = AdaBoostClassifier(base_estimator=dt_model, n_estimators=50)\n",
    "abcl = AdaBoostClassifier( n_estimators= 20)\n",
    "abcl = abcl.fit(X_train, y_train.values.ravel())\n",
    "\n",
    "test_pred = abcl.predict(X_test)\n",
    "abcl.score(X_test , y_test)"
   ]
  },
  {
   "cell_type": "markdown",
   "metadata": {},
   "source": [
    "## GradientBoost"
   ]
  },
  {
   "cell_type": "code",
   "execution_count": null,
   "metadata": {},
   "outputs": [],
   "source": [
    "from sklearn.ensemble import GradientBoostingClassifier\n",
    "gbcl = GradientBoostingClassifier(n_estimators = 50, learning_rate = 0.05)\n",
    "gbcl = gbcl.fit(X_train, y_train.values.ravel())\n",
    "test_pred = gbcl.predict(X_test)\n",
    "gbcl.score(X_test , y_test)"
   ]
  },
  {
   "cell_type": "markdown",
   "metadata": {},
   "source": [
    "## Bagging"
   ]
  },
  {
   "cell_type": "code",
   "execution_count": null,
   "metadata": {},
   "outputs": [],
   "source": [
    "from sklearn.ensemble import BaggingClassifier\n",
    "\n",
    "bgcl = BaggingClassifier(n_estimators=10, max_samples= .6, bootstrap=True)\n",
    "bgcl = bgcl.fit(X_train, y_train.values.ravel())\n",
    "test_pred = bgcl.predict(X_test)\n",
    "bgcl.score(X_test , y_test)"
   ]
  },
  {
   "cell_type": "markdown",
   "metadata": {},
   "source": [
    "## XGBoost"
   ]
  },
  {
   "cell_type": "code",
   "execution_count": null,
   "metadata": {},
   "outputs": [],
   "source": [
    "#import sys\n",
    "#!{sys.executable} -m pip install xgboost\n",
    "#Collecting xgboost\n",
    "#  Downloading https://files.pythonhosted.org/packages/5e/49/b95c037b717b4ceadc76b6e164603471225c27052d1611d5a2e832757945/xgboost-0.90-py2.py3-none-win_amd64.whl (18.3MB)\n",
    "#Requirement already satisfied: scipy in c:\\programdata\\anaconda3\\lib\\site-packages (from xgboost) (1.2.1)\n",
    "#Requirement already satisfied: numpy in c:\\programdata\\anaconda3\\lib\\site-packages (from xgboost) (1.16.2)\n",
    "#Installing collected packages: xgboost\n",
    "#Successfully installed xgboost-0.90"
   ]
  },
  {
   "cell_type": "code",
   "execution_count": null,
   "metadata": {},
   "outputs": [],
   "source": [
    "from xgboost import XGBClassifier\n",
    "xgb_model  = XGBClassifier(objective=\"binary:logistic\", random_state=42)\n",
    "xgb_model= xgb_model.fit(X_train, y_train.values.ravel())\n",
    "test_pred = xgb_model.predict(X_test)\n",
    "xgb_model.score(X_test , y_test)"
   ]
  },
  {
   "cell_type": "markdown",
   "metadata": {},
   "source": [
    "### 7. Compare performances of all the models"
   ]
  },
  {
   "cell_type": "code",
   "execution_count": null,
   "metadata": {},
   "outputs": [],
   "source": []
  }
 ],
 "metadata": {
  "kernelspec": {
   "display_name": "Python 3",
   "language": "python",
   "name": "python3"
  },
  "language_info": {
   "codemirror_mode": {
    "name": "ipython",
    "version": 3
   },
   "file_extension": ".py",
   "mimetype": "text/x-python",
   "name": "python",
   "nbconvert_exporter": "python",
   "pygments_lexer": "ipython3",
   "version": "3.7.3"
  }
 },
 "nbformat": 4,
 "nbformat_minor": 2
}
